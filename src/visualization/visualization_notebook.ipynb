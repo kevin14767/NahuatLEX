{
 "cells": [
  {
   "cell_type": "code",
   "execution_count": 53,
   "id": "283acfcd",
   "metadata": {},
   "outputs": [],
   "source": [
    "# Nahuatl Dictionary Data Analysis Notebook\n",
    "import pandas as pd\n",
    "import matplotlib.pyplot as plt\n",
    "import seaborn as sns\n",
    "import re\n",
    "from bs4 import BeautifulSoup\n"
   ]
  },
  {
   "cell_type": "code",
   "execution_count": 54,
   "id": "3956b053",
   "metadata": {},
   "outputs": [],
   "source": [
    "csv_file = r\"C:\\Users\\Kevin\\Downloads\\NahuatLEX\\data\\initial_dictionaries\\WHP_EarlyNahuatl_data_2024-03-26T17-22-58.csv\"\n",
    "df = pd.read_csv(csv_file)"
   ]
  },
  {
   "cell_type": "code",
   "execution_count": 55,
   "id": "d1ee564e",
   "metadata": {},
   "outputs": [
    {
     "name": "stdout",
     "output_type": "stream",
     "text": [
      "Dataset Basic Information:\n",
      "--------------------------------------------------\n",
      "Total number of entries: 31806\n",
      "\n",
      "Column Types:\n",
      "Ref                                     object\n",
      "Headword                                object\n",
      "Orthographic Variants                   object\n",
      "Principal English Translation           object\n",
      "Attestations from sources in English    object\n",
      "Attestations from sources in Spanish    object\n",
      "Alonso de Molina                        object\n",
      "Frances Karttunen                       object\n",
      "Horacio Carochi / English               object\n",
      "Andrés de Olmos                         object\n",
      "Lockhart’s Nahuatl as Written           object\n",
      "themes                                  object\n",
      "Spanish Loanword                        object\n",
      "dtype: object\n"
     ]
    }
   ],
   "source": [
    "# 1. Basic Data Exploration\n",
    "print(\"Dataset Basic Information:\")\n",
    "print(\"-\" * 50)\n",
    "print(f\"Total number of entries: {len(df)}\")\n",
    "print(\"\\nColumn Types:\")\n",
    "print(df.dtypes)"
   ]
  },
  {
   "cell_type": "code",
   "execution_count": 56,
   "id": "781a15cf",
   "metadata": {},
   "outputs": [
    {
     "name": "stdout",
     "output_type": "stream",
     "text": [
      "\n",
      "Missing Values per Column:\n",
      "Orthographic Variants                   17398\n",
      "Principal English Translation            7751\n",
      "Attestations from sources in English    25938\n",
      "Attestations from sources in Spanish    28594\n",
      "Alonso de Molina                         9291\n",
      "Frances Karttunen                       25380\n",
      "Horacio Carochi / English               31396\n",
      "Andrés de Olmos                         31700\n",
      "Lockhart’s Nahuatl as Written           30552\n",
      "themes                                  18995\n",
      "dtype: int64\n"
     ]
    }
   ],
   "source": [
    "# 2. Missing Values Analysis\n",
    "print(\"\\nMissing Values per Column:\")\n",
    "missing_values = df.isnull().sum()\n",
    "print(missing_values[missing_values > 0])"
   ]
  },
  {
   "cell_type": "code",
   "execution_count": 57,
   "id": "83734114",
   "metadata": {},
   "outputs": [
    {
     "name": "stdout",
     "output_type": "stream",
     "text": [
      "\n",
      "Source Richness (Number of Non-Empty Entries):\n",
      "Attestations from sources in English: 5868 entries\n",
      "Attestations from sources in Spanish: 3212 entries\n",
      "Alonso de Molina: 22515 entries\n",
      "Frances Karttunen: 6426 entries\n",
      "Horacio Carochi / English: 410 entries\n",
      "Andrés de Olmos: 106 entries\n",
      "Lockhart’s Nahuatl as Written: 1254 entries\n"
     ]
    }
   ],
   "source": [
    "# 3. Source Richness Analysis\n",
    "source_columns = [\n",
    "    'Attestations from sources in English', \n",
    "    'Attestations from sources in Spanish', \n",
    "    'Alonso de Molina', \n",
    "    'Frances Karttunen', \n",
    "    'Horacio Carochi / English', \n",
    "    'Andrés de Olmos', \n",
    "    'Lockhart’s Nahuatl as Written'\n",
    "]\n",
    "\n",
    "# Count of non-empty entries for each source\n",
    "source_richness = {col: df[col].notna().sum() for col in source_columns}\n",
    "print(\"\\nSource Richness (Number of Non-Empty Entries):\")\n",
    "for source, count in source_richness.items():\n",
    "    print(f\"{source}: {count} entries\")\n"
   ]
  },
  {
   "cell_type": "code",
   "execution_count": 58,
   "id": "9a330dd2",
   "metadata": {},
   "outputs": [
    {
     "name": "stdout",
     "output_type": "stream",
     "text": [
      "\n",
      "Themes Analysis:\n",
      "Top 10 Themes:\n",
      "Health, Sickness, Wellness, Medicine            523\n",
      "Numbers, Math                                   518\n",
      "Time, Calendar, Frequency                       454\n",
      "Anatomy                                         437\n",
      "Animals, Bugs, Insects, Reptiles, Fish, etc.    408\n",
      "Religion (Christian)                            365\n",
      "Emotions                                        365\n",
      "Behavior, Personality                           301\n",
      "Food, Eating, Cooking                           295\n",
      "Plants, Trees, Flora                            273\n",
      "Name: count, dtype: int64\n"
     ]
    }
   ],
   "source": [
    "# 4. Themes Analysis\n",
    "print(\"\\nThemes Analysis:\")\n",
    "# Split themes and count their occurrences\n",
    "df['themes_list'] = df['themes'].fillna('').str.split(';')\n",
    "all_themes = [theme.strip() for themes in df['themes_list'] for theme in themes if theme.strip()]\n",
    "theme_counts = pd.Series(all_themes).value_counts()\n",
    "\n",
    "\n",
    "print(\"Top 10 Themes:\")\n",
    "print(theme_counts.head(10))"
   ]
  },
  {
   "cell_type": "code",
   "execution_count": 59,
   "id": "72155a9e",
   "metadata": {},
   "outputs": [
    {
     "name": "stdout",
     "output_type": "stream",
     "text": [
      "\n",
      "Spanish Loanwords:\n",
      "Spanish Loanword\n",
      "No     95.469408\n",
      "Yes     4.530592\n",
      "Name: proportion, dtype: float64\n"
     ]
    }
   ],
   "source": [
    "# 5. Spanish Loanwords\n",
    "print(\"\\nSpanish Loanwords:\")\n",
    "loanword_counts = df['Spanish Loanword'].value_counts(normalize=True) * 100\n",
    "print(loanword_counts)\n"
   ]
  },
  {
   "cell_type": "code",
   "execution_count": 60,
   "id": "3154b002",
   "metadata": {},
   "outputs": [
    {
     "name": "stdout",
     "output_type": "stream",
     "text": [
      "\n",
      "Orthographic Variants Distribution:\n",
      "num_variants\n",
      "1    31797\n",
      "2        8\n",
      "3        1\n",
      "Name: count, dtype: int64\n"
     ]
    }
   ],
   "source": [
    "# 6. Orthographic Variants\n",
    "df['num_variants'] = df['Orthographic Variants'].fillna('').str.split(';').apply(len)\n",
    "print(\"\\nOrthographic Variants Distribution:\")\n",
    "print(df['num_variants'].value_counts().sort_index())\n"
   ]
  },
  {
   "cell_type": "code",
   "execution_count": 61,
   "id": "fbccadcc",
   "metadata": {},
   "outputs": [
    {
     "name": "stdout",
     "output_type": "stream",
     "text": [
      "\n",
      "Visualization saved as 'nahuatl_dictionary_overview.png'\n"
     ]
    }
   ],
   "source": [
    "\n",
    "# Visualization Function\n",
    "def create_visualizations():\n",
    "    plt.figure(figsize=(20, 15))\n",
    "    \n",
    "    # Source Attestations\n",
    "    plt.subplot(2, 2, 1)\n",
    "    plt.bar(source_richness.keys(), source_richness.values())\n",
    "    plt.title('Source Attestations')\n",
    "    plt.xticks(rotation=45, ha='right')\n",
    "    \n",
    "    # Themes\n",
    "    plt.subplot(2, 2, 2)\n",
    "    theme_counts.head(10).plot(kind='bar')\n",
    "    plt.title('Top 10 Themes')\n",
    "    plt.xticks(rotation=45, ha='right')\n",
    "    \n",
    "    # Loanwords Pie Chart\n",
    "    plt.subplot(2, 2, 3)\n",
    "    loanword_counts.plot(kind='pie', autopct='%1.1f%%')\n",
    "    plt.title('Spanish Loanwords')\n",
    "    \n",
    "    # Orthographic Variants\n",
    "    plt.subplot(2, 2, 4)\n",
    "    df['num_variants'].value_counts().sort_index().plot(kind='bar')\n",
    "    plt.title('Orthographic Variants per Entry')\n",
    "    \n",
    "    plt.tight_layout()\n",
    "    plt.savefig('nahuatl_dictionary_overview.png')\n",
    "    plt.close()\n",
    "\n",
    "# Run visualizations\n",
    "create_visualizations()\n",
    "print(\"\\nVisualization saved as 'nahuatl_dictionary_overview.png'\")\n"
   ]
  }
 ],
 "metadata": {
  "kernelspec": {
   "display_name": "nahuaLEX_env",
   "language": "python",
   "name": "python3"
  },
  "language_info": {
   "codemirror_mode": {
    "name": "ipython",
    "version": 3
   },
   "file_extension": ".py",
   "mimetype": "text/x-python",
   "name": "python",
   "nbconvert_exporter": "python",
   "pygments_lexer": "ipython3",
   "version": "3.9.6"
  }
 },
 "nbformat": 4,
 "nbformat_minor": 5
}
